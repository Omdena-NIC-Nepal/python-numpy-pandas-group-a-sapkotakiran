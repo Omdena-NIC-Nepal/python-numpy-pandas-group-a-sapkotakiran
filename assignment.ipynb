{
 "cells": [
  {
   "cell_type": "code",
   "metadata": {
    "id": "o7x05AgAPUP8",
    "ExecuteTime": {
     "end_time": "2025-02-18T15:29:27.194519Z",
     "start_time": "2025-02-18T15:29:27.189402Z"
    }
   },
   "source": [
    "# NumPy and Pandas Assignment\n",
    "# Complete the following tasks by filling in the code where indicated.\n",
    "# Ensure your notebook is well-documented with markdown cells explaining your code and result.\n",
    "\n",
    "import numpy as np\n",
    "import pandas as pd\n",
    "\n",
    "from IPython.display import display"
   ],
   "outputs": [],
   "execution_count": 39
  },
  {
   "cell_type": "markdown",
   "metadata": {
    "id": "c1zhu_lDPUP9"
   },
   "source": [
    "# Task 1: NumPy Basics"
   ]
  },
  {
   "cell_type": "markdown",
   "metadata": {
    "id": "cSADnVuqPUP9",
    "outputId": "8472fd0a-be9a-4ff5-80fd-74a0d492c126"
   },
   "source": [
    "### Array Creation\n",
    "#### 1. Create an array of 10 zeros but set the fifth element to 1.\n"
   ]
  },
  {
   "cell_type": "code",
   "metadata": {
    "ExecuteTime": {
     "end_time": "2025-02-18T15:29:27.365959Z",
     "start_time": "2025-02-18T15:29:27.358805Z"
    }
   },
   "source": [
    "# solution\n",
    "my_array = np.zeros(10)\n",
    "my_array[4] = 1  # Remember: Python indexing starts at 0, so index 4 is the fifth element.\n",
    "print(\"Task 1.1 - Array of 10 zeros with the fifth element set to 1:\")\n",
    "print(my_array)\n",
    "print()\n"
   ],
   "outputs": [
    {
     "name": "stdout",
     "output_type": "stream",
     "text": [
      "Task 1.1 - Array of 10 zeros with the fifth element set to 1:\n",
      "[0. 0. 0. 0. 1. 0. 0. 0. 0. 0.]\n",
      "\n"
     ]
    }
   ],
   "execution_count": 40
  },
  {
   "cell_type": "markdown",
   "metadata": {
    "id": "RipsFxj5PUP-",
    "outputId": "af3cec5f-ad17-4715-ab36-0a539d338e80",
    "tags": [
     "parameters"
    ]
   },
   "source": [
    "### 2. Create a 4x4 matrix with values ranging from 0 to 15."
   ]
  },
  {
   "cell_type": "code",
   "metadata": {
    "id": "k5VtDwfGPUP-",
    "outputId": "688f56dc-afce-4bfd-f354-624e9483ca15",
    "ExecuteTime": {
     "end_time": "2025-02-18T15:29:27.410585Z",
     "start_time": "2025-02-18T15:29:27.404502Z"
    }
   },
   "source": [
    "import numpy as np\n",
    "\n",
    "# Create a 4x4 matrix with values ranging from 0 to 15\n",
    "matrix_4x4 = np.arange(16).reshape(4, 4)\n",
    "\n",
    "# Display the matrix\n",
    "print(\"Task 1.2 - 4x4 matrix with values 0 to 15:\")\n",
    "print(matrix_4x4)\n",
    "print()"
   ],
   "outputs": [
    {
     "name": "stdout",
     "output_type": "stream",
     "text": [
      "Task 1.2 - 4x4 matrix with values 0 to 15:\n",
      "[[ 0  1  2  3]\n",
      " [ 4  5  6  7]\n",
      " [ 8  9 10 11]\n",
      " [12 13 14 15]]\n",
      "\n"
     ]
    }
   ],
   "execution_count": 41
  },
  {
   "cell_type": "markdown",
   "metadata": {
    "id": "Fzr2UkPLPUP-",
    "outputId": "09fbb983-e138-4057-de75-a4c1ad46af98"
   },
   "source": [
    "### Array Operations\n",
    "\n",
    "#### 3. Create two NumPy arrays: Perform element-wise addition, subtraction, multiplication, and division.\n",
    "#### arr1: array([[41, 30, 10], [ 6, 35, 23], [23,  9, 10]])\n",
    "#### arr2: array([[4, 29,  2], [5, 13,  3], [24, 16,  7]])"
   ]
  },
  {
   "cell_type": "code",
   "metadata": {
    "id": "lexGZzzCPUP_",
    "outputId": "af75bdb4-fc3b-4772-c39f-97ba353b141c",
    "ExecuteTime": {
     "end_time": "2025-02-18T15:29:27.472884Z",
     "start_time": "2025-02-18T15:29:27.465766Z"
    }
   },
   "source": [
    "arr1 = np.array([[41, 30, 10],\n",
    "                 [ 6, 35, 23],\n",
    "                 [23, 9, 10]])\n",
    "arr2 = np.array([[4, 29, 2],\n",
    "                 [5, 13, 3],\n",
    "                 [24, 16, 7]])\n",
    "\n",
    "# Element-wise addition, subtraction, multiplication, and division\n",
    "add_result = arr1 + arr2\n",
    "sub_result = arr1 - arr2\n",
    "mul_result = arr1 * arr2\n",
    "div_result = arr1 / arr2\n",
    "\n",
    "print(\"Task 1.3 - Element-wise addition:\")\n",
    "print(add_result)\n",
    "print(\"\\nTask 1.3 - Element-wise subtraction:\")\n",
    "print(sub_result)\n",
    "print(\"\\nTask 1.3 - Element-wise multiplication:\")\n",
    "print(mul_result)\n",
    "print(\"\\nTask 1.3 - Element-wise division:\")\n",
    "print(div_result)\n",
    "print()"
   ],
   "outputs": [
    {
     "name": "stdout",
     "output_type": "stream",
     "text": [
      "Task 1.3 - Element-wise addition:\n",
      "[[45 59 12]\n",
      " [11 48 26]\n",
      " [47 25 17]]\n",
      "\n",
      "Task 1.3 - Element-wise subtraction:\n",
      "[[37  1  8]\n",
      " [ 1 22 20]\n",
      " [-1 -7  3]]\n",
      "\n",
      "Task 1.3 - Element-wise multiplication:\n",
      "[[164 870  20]\n",
      " [ 30 455  69]\n",
      " [552 144  70]]\n",
      "\n",
      "Task 1.3 - Element-wise division:\n",
      "[[10.25        1.03448276  5.        ]\n",
      " [ 1.2         2.69230769  7.66666667]\n",
      " [ 0.95833333  0.5625      1.42857143]]\n",
      "\n"
     ]
    }
   ],
   "execution_count": 42
  },
  {
   "cell_type": "markdown",
   "metadata": {},
   "source": [
    "### Array Slicing\n",
    "#### 4. Given the array: \n",
    "#### arr = np.array([10, 20, 30, 40, 50, 60, 70, 80, 90, 100])\n",
    "#### Extract elements from index 2 to 6."
   ]
  },
  {
   "cell_type": "code",
   "metadata": {
    "ExecuteTime": {
     "end_time": "2025-02-18T15:29:27.517547Z",
     "start_time": "2025-02-18T15:29:27.510628Z"
    }
   },
   "source": [
    "\n",
    "arr = np.array([10, 20, 30, 40, 50, 60, 70, 80, 90, 100])\n",
    "\n",
    "\n",
    "sliced_arr = arr[2:7]  \n",
    "\n",
    "print(\"Task 1.4 - Sliced array (elements from index 2 to 6):\")\n",
    "print(sliced_arr)\n",
    "print()\n"
   ],
   "outputs": [
    {
     "name": "stdout",
     "output_type": "stream",
     "text": [
      "Task 1.4 - Sliced array (elements from index 2 to 6):\n",
      "[30 40 50 60 70]\n",
      "\n"
     ]
    }
   ],
   "execution_count": 43
  },
  {
   "cell_type": "markdown",
   "metadata": {},
   "source": [
    "### Using NumPy Methods\n",
    "#### 5. Convert the array below to a 3×3 NumPy array.\n",
    "#### array([[15, 18, 20], [15, 30, 8], [25, 30, 60]])\n",
    "#### Find the mean, sum, and maximum value."
   ]
  },
  {
   "cell_type": "code",
   "metadata": {
    "ExecuteTime": {
     "end_time": "2025-02-18T15:29:27.586638Z",
     "start_time": "2025-02-18T15:29:27.578911Z"
    }
   },
   "source": [
    "# NB: round the mean to two decimal places\n",
    "data_array = np.array([[15, 18, 20],\n",
    "                       [15, 30, 8],\n",
    "                       [25, 30, 60]])\n",
    "mean_val = round(data_array.mean(), 2)  # Rounded to two decimal places\n",
    "sum_val = data_array.sum()\n",
    "max_val = data_array.max()\n",
    "\n",
    "print(\"Task 1.5 - Data array:\")\n",
    "print(data_array)\n",
    "print(\"\\nMean (rounded to 2 decimal places):\", mean_val)\n",
    "print(\"Sum:\", sum_val)\n",
    "print(\"Max:\", max_val)\n",
    "print()"
   ],
   "outputs": [
    {
     "name": "stdout",
     "output_type": "stream",
     "text": [
      "Task 1.5 - Data array:\n",
      "[[15 18 20]\n",
      " [15 30  8]\n",
      " [25 30 60]]\n",
      "\n",
      "Mean (rounded to 2 decimal places): 24.56\n",
      "Sum: 221\n",
      "Max: 60\n",
      "\n"
     ]
    }
   ],
   "execution_count": 44
  },
  {
   "cell_type": "markdown",
   "metadata": {
    "id": "vie2MnWzPUP_"
   },
   "source": [
    "# Task 2: Pandas Basics"
   ]
  },
  {
   "cell_type": "markdown",
   "metadata": {
    "id": "rUKKzwUhPUP_",
    "outputId": "25c2c47e-7cc8-47e7-fc3d-97256f7ebc36"
   },
   "source": [
    "### Creating a Pandas Series\n",
    "#### 1. Create a Pandas Series from the list [10, 20, 30, 40, 50] with index labels 'a', 'b', 'c', 'd', 'e'."
   ]
  },
  {
   "cell_type": "code",
   "metadata": {
    "id": "ZlpSxf2HPUP_",
    "outputId": "8e5f27b0-534b-4702-af6b-301096951d9d",
    "ExecuteTime": {
     "end_time": "2025-02-18T15:29:27.654922Z",
     "start_time": "2025-02-18T15:29:27.647893Z"
    }
   },
   "source": [
    "series_data = pd.Series([10, 20, 30, 40, 50], index=['a', 'b', 'c', 'd', 'e'])\n",
    "print(\"Task 2.1 - Pandas Series:\")\n",
    "print(series_data)\n",
    "print()"
   ],
   "outputs": [
    {
     "name": "stdout",
     "output_type": "stream",
     "text": [
      "Task 2.1 - Pandas Series:\n",
      "a    10\n",
      "b    20\n",
      "c    30\n",
      "d    40\n",
      "e    50\n",
      "dtype: int64\n",
      "\n"
     ]
    }
   ],
   "execution_count": 45
  },
  {
   "cell_type": "markdown",
   "metadata": {
    "id": "B2E7-OV5PUP_",
    "outputId": "87c32ef2-137e-46ea-9fb2-ab68bb80e06c"
   },
   "source": [
    "### Reading a CSV File\n",
    "#### 2. Read a CSV file named \"data.csv\" into a Pandas DataFrame. The CSV file has the following columns: \"Name\", \"Age\", \"Salary\"."
   ]
  },
  {
   "cell_type": "code",
   "metadata": {
    "ExecuteTime": {
     "end_time": "2025-02-18T15:29:27.755272Z",
     "start_time": "2025-02-18T15:29:27.740797Z"
    }
   },
   "source": [
    "import pandas as pd\n",
    "df = pd.read_csv(\"data/data.csv\")\n",
    "df"
   ],
   "outputs": [
    {
     "data": {
      "text/plain": [
       "       Name  Age  Salary\n",
       "0     Alice   29   73193\n",
       "1       Bob   53   85398\n",
       "2   Charlie   36   47162\n",
       "3     David   22   65853\n",
       "4       Eve   24   36168\n",
       "5     Frank   58   69657\n",
       "6     Grace   41   85202\n",
       "7    Hannah   38   62421\n",
       "8     Isaac   50   74641\n",
       "9      Jack   47   38963\n",
       "10    Karen   34   32136\n",
       "11      Leo   49   41874\n",
       "12     Mona   56   34070\n",
       "13     Nina   49   91734\n",
       "14    Oscar   30   89539\n",
       "15     Paul   23   78720\n",
       "16    Quinn   31   54424\n",
       "17   Rachel   54   59900\n",
       "18    Steve   36   32163\n",
       "19     Tina   56   52054"
      ],
      "text/html": [
       "<div>\n",
       "<style scoped>\n",
       "    .dataframe tbody tr th:only-of-type {\n",
       "        vertical-align: middle;\n",
       "    }\n",
       "\n",
       "    .dataframe tbody tr th {\n",
       "        vertical-align: top;\n",
       "    }\n",
       "\n",
       "    .dataframe thead th {\n",
       "        text-align: right;\n",
       "    }\n",
       "</style>\n",
       "<table border=\"1\" class=\"dataframe\">\n",
       "  <thead>\n",
       "    <tr style=\"text-align: right;\">\n",
       "      <th></th>\n",
       "      <th>Name</th>\n",
       "      <th>Age</th>\n",
       "      <th>Salary</th>\n",
       "    </tr>\n",
       "  </thead>\n",
       "  <tbody>\n",
       "    <tr>\n",
       "      <th>0</th>\n",
       "      <td>Alice</td>\n",
       "      <td>29</td>\n",
       "      <td>73193</td>\n",
       "    </tr>\n",
       "    <tr>\n",
       "      <th>1</th>\n",
       "      <td>Bob</td>\n",
       "      <td>53</td>\n",
       "      <td>85398</td>\n",
       "    </tr>\n",
       "    <tr>\n",
       "      <th>2</th>\n",
       "      <td>Charlie</td>\n",
       "      <td>36</td>\n",
       "      <td>47162</td>\n",
       "    </tr>\n",
       "    <tr>\n",
       "      <th>3</th>\n",
       "      <td>David</td>\n",
       "      <td>22</td>\n",
       "      <td>65853</td>\n",
       "    </tr>\n",
       "    <tr>\n",
       "      <th>4</th>\n",
       "      <td>Eve</td>\n",
       "      <td>24</td>\n",
       "      <td>36168</td>\n",
       "    </tr>\n",
       "    <tr>\n",
       "      <th>5</th>\n",
       "      <td>Frank</td>\n",
       "      <td>58</td>\n",
       "      <td>69657</td>\n",
       "    </tr>\n",
       "    <tr>\n",
       "      <th>6</th>\n",
       "      <td>Grace</td>\n",
       "      <td>41</td>\n",
       "      <td>85202</td>\n",
       "    </tr>\n",
       "    <tr>\n",
       "      <th>7</th>\n",
       "      <td>Hannah</td>\n",
       "      <td>38</td>\n",
       "      <td>62421</td>\n",
       "    </tr>\n",
       "    <tr>\n",
       "      <th>8</th>\n",
       "      <td>Isaac</td>\n",
       "      <td>50</td>\n",
       "      <td>74641</td>\n",
       "    </tr>\n",
       "    <tr>\n",
       "      <th>9</th>\n",
       "      <td>Jack</td>\n",
       "      <td>47</td>\n",
       "      <td>38963</td>\n",
       "    </tr>\n",
       "    <tr>\n",
       "      <th>10</th>\n",
       "      <td>Karen</td>\n",
       "      <td>34</td>\n",
       "      <td>32136</td>\n",
       "    </tr>\n",
       "    <tr>\n",
       "      <th>11</th>\n",
       "      <td>Leo</td>\n",
       "      <td>49</td>\n",
       "      <td>41874</td>\n",
       "    </tr>\n",
       "    <tr>\n",
       "      <th>12</th>\n",
       "      <td>Mona</td>\n",
       "      <td>56</td>\n",
       "      <td>34070</td>\n",
       "    </tr>\n",
       "    <tr>\n",
       "      <th>13</th>\n",
       "      <td>Nina</td>\n",
       "      <td>49</td>\n",
       "      <td>91734</td>\n",
       "    </tr>\n",
       "    <tr>\n",
       "      <th>14</th>\n",
       "      <td>Oscar</td>\n",
       "      <td>30</td>\n",
       "      <td>89539</td>\n",
       "    </tr>\n",
       "    <tr>\n",
       "      <th>15</th>\n",
       "      <td>Paul</td>\n",
       "      <td>23</td>\n",
       "      <td>78720</td>\n",
       "    </tr>\n",
       "    <tr>\n",
       "      <th>16</th>\n",
       "      <td>Quinn</td>\n",
       "      <td>31</td>\n",
       "      <td>54424</td>\n",
       "    </tr>\n",
       "    <tr>\n",
       "      <th>17</th>\n",
       "      <td>Rachel</td>\n",
       "      <td>54</td>\n",
       "      <td>59900</td>\n",
       "    </tr>\n",
       "    <tr>\n",
       "      <th>18</th>\n",
       "      <td>Steve</td>\n",
       "      <td>36</td>\n",
       "      <td>32163</td>\n",
       "    </tr>\n",
       "    <tr>\n",
       "      <th>19</th>\n",
       "      <td>Tina</td>\n",
       "      <td>56</td>\n",
       "      <td>52054</td>\n",
       "    </tr>\n",
       "  </tbody>\n",
       "</table>\n",
       "</div>"
      ]
     },
     "execution_count": 46,
     "metadata": {},
     "output_type": "execute_result"
    }
   ],
   "execution_count": 46
  },
  {
   "metadata": {
    "ExecuteTime": {
     "end_time": "2025-02-18T15:29:27.803332Z",
     "start_time": "2025-02-18T15:29:27.799231Z"
    }
   },
   "cell_type": "code",
   "source": "",
   "outputs": [],
   "execution_count": null
  },
  {
   "cell_type": "markdown",
   "metadata": {
    "id": "0bx-pMjFPUQA",
    "outputId": "d841093f-a189-4904-a6cd-1eddb40792f1"
   },
   "source": [
    "### Slicing a DataFrame\n",
    "#### 3. From the DataFrame created in Exercise 2, select only the first three rows."
   ]
  },
  {
   "cell_type": "code",
   "metadata": {
    "id": "2pQ2LSFhPUQA",
    "outputId": "9e7811fb-9a3a-47dd-9c7b-0c7030b2880d",
    "ExecuteTime": {
     "end_time": "2025-02-18T15:29:27.913135Z",
     "start_time": "2025-02-18T15:29:27.897526Z"
    }
   },
   "source": [
    "df_first_three = df.head(3)\n",
    "print(\"Task 2.3 - First three rows of the DataFrame:\")\n",
    "print(df_first_three)\n",
    "print()\n"
   ],
   "outputs": [
    {
     "name": "stdout",
     "output_type": "stream",
     "text": [
      "Task 2.3 - First three rows of the DataFrame:\n",
      "      Name  Age  Salary\n",
      "0    Alice   29   73193\n",
      "1      Bob   53   85398\n",
      "2  Charlie   36   47162\n",
      "\n"
     ]
    }
   ],
   "execution_count": 47
  },
  {
   "cell_type": "markdown",
   "metadata": {},
   "source": [
    "### Manipulating a DataFrame - Adding a Column\n",
    "#### 4. Add a new column named \"Tax\" to the DataFrame from Exercise 2. The tax should be calculated as 10% of the \"Salary\" column."
   ]
  },
  {
   "cell_type": "code",
   "metadata": {
    "id": "NtWyRwfIPUQA",
    "outputId": "1495bd77-e301-494f-f1ab-0fadf74612fc",
    "ExecuteTime": {
     "end_time": "2025-02-18T15:35:23.705396Z",
     "start_time": "2025-02-18T15:35:23.690393Z"
    }
   },
   "source": [
    "\n",
    "df[\"Tax\"] = df[\"Salary\"] * 0.10 "
   ],
   "outputs": [],
   "execution_count": 61
  },
  {
   "cell_type": "markdown",
   "metadata": {},
   "source": "#### Filter the dataframe by the column \"age\" whereby the age is above 36 yearsd"
  },
  {
   "cell_type": "code",
   "metadata": {
    "id": "rQ0oT6jxPUQA",
    "outputId": "2165c104-4cb4-4ea8-e8c3-1d70a03d7ca2",
    "ExecuteTime": {
     "end_time": "2025-02-18T15:29:28.247359Z",
     "start_time": "2025-02-18T15:29:28.239056Z"
    }
   },
   "source": [
    "# Filter the dataframe where age is above 36\n",
    "filtered_df = df[df['Age'] > 36]\n",
    "\n",
    "\n",
    "print(filtered_df)"
   ],
   "outputs": [
    {
     "name": "stdout",
     "output_type": "stream",
     "text": [
      "      Name  Age  Salary\n",
      "1      Bob   53   85398\n",
      "5    Frank   58   69657\n",
      "6    Grace   41   85202\n",
      "7   Hannah   38   62421\n",
      "8    Isaac   50   74641\n",
      "9     Jack   47   38963\n",
      "11     Leo   49   41874\n",
      "12    Mona   56   34070\n",
      "13    Nina   49   91734\n",
      "17  Rachel   54   59900\n",
      "19    Tina   56   52054\n"
     ]
    }
   ],
   "execution_count": 49
  },
  {
   "cell_type": "markdown",
   "metadata": {
    "id": "N93ktZ39PUQA"
   },
   "source": [
    "# Task 3: Data Analysis with Pandas"
   ]
  },
  {
   "cell_type": "markdown",
   "metadata": {
    "id": "AjtmFP3GPUQB",
    "outputId": "0980655e-35c5-4ae0-a640-3acab029e694"
   },
   "source": [
    "### Aggregation - Compute Total and Mean Sales\n",
    "#### 1. Given a dataset of sales transactions, compute the total and mean sales per region."
   ]
  },
  {
   "cell_type": "code",
   "metadata": {
    "id": "qT-ldaKpPUQB",
    "outputId": "918cf5fc-705d-464b-b53f-004f52f20dbc",
    "ExecuteTime": {
     "end_time": "2025-02-18T15:29:28.296597Z",
     "start_time": "2025-02-18T15:29:28.286353Z"
    }
   },
   "source": [
    "# Sample Data\n",
    "sales_data = pd.DataFrame({\n",
    "    \"Region\": [\"North\", \"South\", \"North\", \"West\", \"South\", \"West\"],\n",
    "    \"Sales\": [1000, 1500, 1200, 1800, 1300, 1700]\n",
    "})\n",
    "sales_data.head()"
   ],
   "outputs": [
    {
     "data": {
      "text/plain": [
       "  Region  Sales\n",
       "0  North   1000\n",
       "1  South   1500\n",
       "2  North   1200\n",
       "3   West   1800\n",
       "4  South   1300"
      ],
      "text/html": [
       "<div>\n",
       "<style scoped>\n",
       "    .dataframe tbody tr th:only-of-type {\n",
       "        vertical-align: middle;\n",
       "    }\n",
       "\n",
       "    .dataframe tbody tr th {\n",
       "        vertical-align: top;\n",
       "    }\n",
       "\n",
       "    .dataframe thead th {\n",
       "        text-align: right;\n",
       "    }\n",
       "</style>\n",
       "<table border=\"1\" class=\"dataframe\">\n",
       "  <thead>\n",
       "    <tr style=\"text-align: right;\">\n",
       "      <th></th>\n",
       "      <th>Region</th>\n",
       "      <th>Sales</th>\n",
       "    </tr>\n",
       "  </thead>\n",
       "  <tbody>\n",
       "    <tr>\n",
       "      <th>0</th>\n",
       "      <td>North</td>\n",
       "      <td>1000</td>\n",
       "    </tr>\n",
       "    <tr>\n",
       "      <th>1</th>\n",
       "      <td>South</td>\n",
       "      <td>1500</td>\n",
       "    </tr>\n",
       "    <tr>\n",
       "      <th>2</th>\n",
       "      <td>North</td>\n",
       "      <td>1200</td>\n",
       "    </tr>\n",
       "    <tr>\n",
       "      <th>3</th>\n",
       "      <td>West</td>\n",
       "      <td>1800</td>\n",
       "    </tr>\n",
       "    <tr>\n",
       "      <th>4</th>\n",
       "      <td>South</td>\n",
       "      <td>1300</td>\n",
       "    </tr>\n",
       "  </tbody>\n",
       "</table>\n",
       "</div>"
      ]
     },
     "execution_count": 50,
     "metadata": {},
     "output_type": "execute_result"
    }
   ],
   "execution_count": 50
  },
  {
   "cell_type": "code",
   "metadata": {
    "ExecuteTime": {
     "end_time": "2025-02-18T15:29:28.549825Z",
     "start_time": "2025-02-18T15:29:28.535508Z"
    }
   },
   "source": [
    "sales_data = pd.DataFrame({\n",
    "    \"Region\": [\"North\", \"South\", \"North\", \"West\", \"South\", \"West\"],\n",
    "    \"Sales\": [1000, 1500, 1200, 1800, 1300, 1700]\n",
    "})\n",
    "\n",
    "# Total sales per region\n",
    "total_sales = sales_data.groupby(\"Region\")[\"Sales\"].sum().reset_index(name=\"TotalSales\")\n",
    "# Mean sales per region\n",
    "mean_sales = sales_data.groupby(\"Region\")[\"Sales\"].mean().reset_index(name=\"MeanSales\")\n",
    "\n",
    "print(\"Task 3.1 - Total Sales per Region:\")\n",
    "print(total_sales)\n",
    "print(\"\\nTask 3.1 - Mean Sales per Region:\")\n",
    "print(mean_sales)\n",
    "print()"
   ],
   "outputs": [
    {
     "name": "stdout",
     "output_type": "stream",
     "text": [
      "Task 3.1 - Total Sales per Region:\n",
      "  Region  TotalSales\n",
      "0  North        2200\n",
      "1  South        2800\n",
      "2   West        3500\n",
      "\n",
      "Task 3.1 - Mean Sales per Region:\n",
      "  Region  MeanSales\n",
      "0  North     1100.0\n",
      "1  South     1400.0\n",
      "2   West     1750.0\n",
      "\n"
     ]
    }
   ],
   "execution_count": 51
  },
  {
   "cell_type": "markdown",
   "metadata": {
    "id": "ynk6eTfoPUQB",
    "outputId": "f5d51302-fb1e-4524-88c6-1089a1aa1dc5"
   },
   "source": [
    "### Merging - Combine Customer and Order Data\n",
    "#### 2. Merge customers and orders data based on CustomerID."
   ]
  },
  {
   "cell_type": "code",
   "metadata": {
    "id": "RcbdmPYdPUQB",
    "outputId": "eb10b536-d73a-406e-af20-966cba72ce4d",
    "ExecuteTime": {
     "end_time": "2025-02-18T15:29:28.724416Z",
     "start_time": "2025-02-18T15:29:28.709741Z"
    }
   },
   "source": [
    "customers = pd.DataFrame({\n",
    "    \"CustomerID\": [1, 2, 3, 4],\n",
    "    \"CustomerName\": [\"Alice\", \"Bob\", \"Charlie\", \"David\"]\n",
    "})\n",
    "\n",
    "orders = pd.DataFrame({\n",
    "    \"OrderID\": [101, 102, 103, 104],\n",
    "    \"CustomerID\": [1, 2, 2, 4],\n",
    "    \"Amount\": [250, 400, 600, 150]\n",
    "})\n",
    "\n",
    "print(\"Customers:\")\n",
    "print(customers.head(2))\n",
    "print(\"\\nOrders:\")\n",
    "print(orders.head(2))"
   ],
   "outputs": [
    {
     "data": {
      "text/plain": [
       "   CustomerID CustomerName\n",
       "0           1        Alice\n",
       "1           2          Bob"
      ],
      "text/html": [
       "<div>\n",
       "<style scoped>\n",
       "    .dataframe tbody tr th:only-of-type {\n",
       "        vertical-align: middle;\n",
       "    }\n",
       "\n",
       "    .dataframe tbody tr th {\n",
       "        vertical-align: top;\n",
       "    }\n",
       "\n",
       "    .dataframe thead th {\n",
       "        text-align: right;\n",
       "    }\n",
       "</style>\n",
       "<table border=\"1\" class=\"dataframe\">\n",
       "  <thead>\n",
       "    <tr style=\"text-align: right;\">\n",
       "      <th></th>\n",
       "      <th>CustomerID</th>\n",
       "      <th>CustomerName</th>\n",
       "    </tr>\n",
       "  </thead>\n",
       "  <tbody>\n",
       "    <tr>\n",
       "      <th>0</th>\n",
       "      <td>1</td>\n",
       "      <td>Alice</td>\n",
       "    </tr>\n",
       "    <tr>\n",
       "      <th>1</th>\n",
       "      <td>2</td>\n",
       "      <td>Bob</td>\n",
       "    </tr>\n",
       "  </tbody>\n",
       "</table>\n",
       "</div>"
      ]
     },
     "metadata": {},
     "output_type": "display_data"
    },
    {
     "data": {
      "text/plain": [
       "   OrderID  CustomerID  Amount\n",
       "0      101           1     250\n",
       "1      102           2     400"
      ],
      "text/html": [
       "<div>\n",
       "<style scoped>\n",
       "    .dataframe tbody tr th:only-of-type {\n",
       "        vertical-align: middle;\n",
       "    }\n",
       "\n",
       "    .dataframe tbody tr th {\n",
       "        vertical-align: top;\n",
       "    }\n",
       "\n",
       "    .dataframe thead th {\n",
       "        text-align: right;\n",
       "    }\n",
       "</style>\n",
       "<table border=\"1\" class=\"dataframe\">\n",
       "  <thead>\n",
       "    <tr style=\"text-align: right;\">\n",
       "      <th></th>\n",
       "      <th>OrderID</th>\n",
       "      <th>CustomerID</th>\n",
       "      <th>Amount</th>\n",
       "    </tr>\n",
       "  </thead>\n",
       "  <tbody>\n",
       "    <tr>\n",
       "      <th>0</th>\n",
       "      <td>101</td>\n",
       "      <td>1</td>\n",
       "      <td>250</td>\n",
       "    </tr>\n",
       "    <tr>\n",
       "      <th>1</th>\n",
       "      <td>102</td>\n",
       "      <td>2</td>\n",
       "      <td>400</td>\n",
       "    </tr>\n",
       "  </tbody>\n",
       "</table>\n",
       "</div>"
      ]
     },
     "metadata": {},
     "output_type": "display_data"
    }
   ],
   "execution_count": 52
  },
  {
   "cell_type": "code",
   "metadata": {
    "id": "S8Pd45ksPUQB",
    "ExecuteTime": {
     "end_time": "2025-02-18T15:29:28.859525Z",
     "start_time": "2025-02-18T15:29:28.848933Z"
    }
   },
   "source": [
    "# solution\n",
    "customers = pd.DataFrame({\n",
    "    \"CustomerID\": [1, 2, 3, 4],\n",
    "    \"CustomerName\": [\"Alice\", \"Bob\", \"Charlie\", \"David\"]\n",
    "})\n",
    "\n",
    "orders = pd.DataFrame({\n",
    "    \"OrderID\": [101, 102, 103, 104],\n",
    "    \"CustomerID\": [1, 2, 2, 4],\n",
    "    \"Amount\": [250, 400, 600, 150]\n",
    "})\n",
    "\n",
    "merged_data = pd.merge(customers, orders, on=\"CustomerID\", how=\"inner\")\n",
    "print(\"Task 3.2 - Merged Customers and Orders Data:\")\n",
    "print(merged_data)\n",
    "print()"
   ],
   "outputs": [
    {
     "name": "stdout",
     "output_type": "stream",
     "text": [
      "Task 3.2 - Merged Customers and Orders Data:\n",
      "   CustomerID CustomerName  OrderID  Amount\n",
      "0           1        Alice      101     250\n",
      "1           2          Bob      102     400\n",
      "2           2          Bob      103     600\n",
      "3           4        David      104     150\n",
      "\n"
     ]
    }
   ],
   "execution_count": 53
  },
  {
   "cell_type": "markdown",
   "metadata": {},
   "source": [
    "### Joining - Left Join Employee Data\n",
    "#### 4. Perform a left join between employees and departments on DeptID."
   ]
  },
  {
   "cell_type": "code",
   "metadata": {
    "ExecuteTime": {
     "end_time": "2025-02-18T15:33:54.206255Z",
     "start_time": "2025-02-18T15:33:54.096569Z"
    }
   },
   "source": [
    "# NB: No test for this. Just an exercise for you to play around with\n",
    "employees = pd.DataFrame({\n",
    "    \"EmpID\": [101, 102, 103, 104],\n",
    "    \"EmpName\": [\"John\", \"Jane\", \"Alice\", \"Bob\"],\n",
    "    \"DeptID\": [1, 2, 2, 3]\n",
    "})\n",
    "\n",
    "departments = pd.DataFrame({\n",
    "    \"DeptID\": [1, 2],\n",
    "    \"DeptName\": [\"HR\", \"Finance\"]\n",
    "})\n",
    "\n",
    "\n",
    "print(\"Employess:\")\n",
    "print(employees.head(2))\n",
    "print(\"\\nDepartments:\")\n",
    "print(departments.head(2))"
   ],
   "outputs": [
    {
     "name": "stdout",
     "output_type": "stream",
     "text": [
      "Employess:\n",
      "   EmpID EmpName  DeptID\n",
      "0    101    John       1\n",
      "1    102    Jane       2\n",
      "\n",
      "Departments:\n",
      "   DeptID DeptName\n",
      "0       1       HR\n",
      "1       2  Finance\n"
     ]
    }
   ],
   "execution_count": 58
  },
  {
   "cell_type": "code",
   "metadata": {
    "ExecuteTime": {
     "end_time": "2025-02-18T15:29:29.210015Z",
     "start_time": "2025-02-18T15:29:29.197927Z"
    }
   },
   "source": [
    "# solution\n",
    "employees = pd.DataFrame({\n",
    "    \"EmpID\": [101, 102, 103, 104],\n",
    "    \"EmpName\": [\"John\", \"Jane\", \"Alice\", \"Bob\"],\n",
    "    \"DeptID\": [1, 2, 2, 3]\n",
    "})\n",
    "\n",
    "departments = pd.DataFrame({\n",
    "    \"DeptID\": [1, 2],\n",
    "    \"DeptName\": [\"HR\", \"Finance\"]\n",
    "})\n",
    "\n",
    "left_join = pd.merge(employees, departments, on=\"DeptID\", how=\"left\")\n",
    "print(\"Task 3.3 - Left Join of Employees and Departments:\")\n",
    "print(left_join)\n",
    "print()"
   ],
   "outputs": [
    {
     "name": "stdout",
     "output_type": "stream",
     "text": [
      "Task 3.3 - Left Join of Employees and Departments:\n",
      "   EmpID EmpName  DeptID DeptName\n",
      "0    101    John       1       HR\n",
      "1    102    Jane       2  Finance\n",
      "2    103   Alice       2  Finance\n",
      "3    104     Bob       3      NaN\n",
      "\n"
     ]
    }
   ],
   "execution_count": 55
  },
  {
   "cell_type": "markdown",
   "metadata": {},
   "source": [
    "### Pivot Table - Summarize Sales Data\n",
    "#### 4. Create a pivot table showing total sales for each Region and Product."
   ]
  },
  {
   "cell_type": "code",
   "metadata": {
    "ExecuteTime": {
     "end_time": "2025-02-18T15:29:29.390881Z",
     "start_time": "2025-02-18T15:29:29.381168Z"
    }
   },
   "source": [
    "sales_pivot_data = pd.DataFrame({\n",
    "    \"Region\": [\"North\", \"North\", \"South\", \"South\", \"West\", \"West\"],\n",
    "    \"Product\": [\"A\", \"B\", \"A\", \"B\", \"A\", \"B\"],\n",
    "    \"Sales\": [200, 300, 150, 400, 250, 500]\n",
    "})\n",
    "\n",
    "sales_pivot_data.head(2)"
   ],
   "outputs": [
    {
     "data": {
      "text/plain": [
       "  Region Product  Sales\n",
       "0  North       A    200\n",
       "1  North       B    300"
      ],
      "text/html": [
       "<div>\n",
       "<style scoped>\n",
       "    .dataframe tbody tr th:only-of-type {\n",
       "        vertical-align: middle;\n",
       "    }\n",
       "\n",
       "    .dataframe tbody tr th {\n",
       "        vertical-align: top;\n",
       "    }\n",
       "\n",
       "    .dataframe thead th {\n",
       "        text-align: right;\n",
       "    }\n",
       "</style>\n",
       "<table border=\"1\" class=\"dataframe\">\n",
       "  <thead>\n",
       "    <tr style=\"text-align: right;\">\n",
       "      <th></th>\n",
       "      <th>Region</th>\n",
       "      <th>Product</th>\n",
       "      <th>Sales</th>\n",
       "    </tr>\n",
       "  </thead>\n",
       "  <tbody>\n",
       "    <tr>\n",
       "      <th>0</th>\n",
       "      <td>North</td>\n",
       "      <td>A</td>\n",
       "      <td>200</td>\n",
       "    </tr>\n",
       "    <tr>\n",
       "      <th>1</th>\n",
       "      <td>North</td>\n",
       "      <td>B</td>\n",
       "      <td>300</td>\n",
       "    </tr>\n",
       "  </tbody>\n",
       "</table>\n",
       "</div>"
      ]
     },
     "execution_count": 56,
     "metadata": {},
     "output_type": "execute_result"
    }
   ],
   "execution_count": 56
  },
  {
   "cell_type": "code",
   "metadata": {
    "ExecuteTime": {
     "end_time": "2025-02-18T15:29:29.583068Z",
     "start_time": "2025-02-18T15:29:29.564262Z"
    }
   },
   "source": [
    "# solution\n",
    "sales_pivot_data = pd.DataFrame({\n",
    "    \"Region\": [\"North\", \"North\", \"South\", \"South\", \"West\", \"West\"],\n",
    "    \"Product\": [\"A\", \"B\", \"A\", \"B\", \"A\", \"B\"],\n",
    "    \"Sales\": [200, 300, 150, 400, 250, 500]\n",
    "})\n",
    "\n",
    "pivot_table = pd.pivot_table(sales_pivot_data, \n",
    "                             values=\"Sales\", \n",
    "                             index=\"Region\", \n",
    "                             columns=\"Product\", \n",
    "                             aggfunc=\"sum\", \n",
    "                             fill_value=0)\n",
    "print(\"Task 3.4 - Pivot Table (Total Sales for each Region and Product):\")\n",
    "print(pivot_table)"
   ],
   "outputs": [
    {
     "name": "stdout",
     "output_type": "stream",
     "text": [
      "Task 3.4 - Pivot Table (Total Sales for each Region and Product):\n",
      "Product    A    B\n",
      "Region           \n",
      "North    200  300\n",
      "South    150  400\n",
      "West     250  500\n"
     ]
    }
   ],
   "execution_count": 57
  },
  {
   "metadata": {
    "ExecuteTime": {
     "end_time": "2025-02-18T15:29:29.663204Z",
     "start_time": "2025-02-18T15:29:29.658430Z"
    }
   },
   "cell_type": "code",
   "source": "",
   "outputs": [],
   "execution_count": null
  }
 ],
 "metadata": {
  "colab": {
   "provenance": []
  },
  "kernelspec": {
   "display_name": "Python 3",
   "language": "python",
   "name": "python3"
  },
  "language_info": {
   "codemirror_mode": {
    "name": "ipython",
    "version": 3
   },
   "file_extension": ".py",
   "mimetype": "text/x-python",
   "name": "python",
   "nbconvert_exporter": "python",
   "pygments_lexer": "ipython3",
   "version": "3.8.10"
  }
 },
 "nbformat": 4,
 "nbformat_minor": 0
}
